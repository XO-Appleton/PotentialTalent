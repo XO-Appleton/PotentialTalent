{
  "cells": [
    {
      "cell_type": "markdown",
      "id": "3ea30bf9",
      "metadata": {
        "id": "3ea30bf9"
      },
      "source": [
        "# Potential Talents\n",
        "\n",
        "- Author: Yumo Bai\n",
        "- Email: baiym104@gmail.com\n",
        "- Date: Mar 16, 2023"
      ]
    },
    {
      "cell_type": "markdown",
      "id": "af2612ec",
      "metadata": {
        "id": "af2612ec"
      },
      "source": [
        "## Loading Packages"
      ]
    },
    {
      "cell_type": "code",
      "execution_count": 1,
      "id": "585e7b23",
      "metadata": {
        "ExecuteTime": {
          "end_time": "2023-03-19T00:48:02.089265Z",
          "start_time": "2023-03-19T00:48:01.354723Z"
        },
        "id": "585e7b23"
      },
      "outputs": [],
      "source": [
        "import numpy as np\n",
        "import pandas as pd\n",
        "import matplotlib.pyplot as plt\n",
        "import seaborn as sns"
      ]
    },
    {
      "cell_type": "markdown",
      "id": "c81582cf",
      "metadata": {
        "id": "c81582cf"
      },
      "source": [
        "## Data Wrangling"
      ]
    },
    {
      "cell_type": "code",
      "execution_count": 4,
      "id": "7f296614",
      "metadata": {
        "ExecuteTime": {
          "end_time": "2023-03-19T00:48:02.098538Z",
          "start_time": "2023-03-19T00:48:02.090058Z"
        },
        "colab": {
          "base_uri": "https://localhost:8080/",
          "height": 206
        },
        "id": "7f296614",
        "outputId": "1b5059cb-6484-4166-bf18-068396f78ec3"
      },
      "outputs": [
        {
          "output_type": "execute_result",
          "data": {
            "text/plain": [
              "   id                                          job_title  \\\n",
              "0   1  2019 C.T. Bauer College of Business Graduate (...   \n",
              "1   2  Native English Teacher at EPIK (English Progra...   \n",
              "2   3              Aspiring Human Resources Professional   \n",
              "3   4             People Development Coordinator at Ryan   \n",
              "4   5    Advisory Board Member at Celal Bayar University   \n",
              "\n",
              "                              location connection  fit  \n",
              "0                       Houston, Texas         85  NaN  \n",
              "1                               Kanada      500+   NaN  \n",
              "2  Raleigh-Durham, North Carolina Area         44  NaN  \n",
              "3                        Denton, Texas      500+   NaN  \n",
              "4                       İzmir, Türkiye      500+   NaN  "
            ],
            "text/html": [
              "\n",
              "  <div id=\"df-f70950a6-66f9-4055-bc8c-8511101eaa79\">\n",
              "    <div class=\"colab-df-container\">\n",
              "      <div>\n",
              "<style scoped>\n",
              "    .dataframe tbody tr th:only-of-type {\n",
              "        vertical-align: middle;\n",
              "    }\n",
              "\n",
              "    .dataframe tbody tr th {\n",
              "        vertical-align: top;\n",
              "    }\n",
              "\n",
              "    .dataframe thead th {\n",
              "        text-align: right;\n",
              "    }\n",
              "</style>\n",
              "<table border=\"1\" class=\"dataframe\">\n",
              "  <thead>\n",
              "    <tr style=\"text-align: right;\">\n",
              "      <th></th>\n",
              "      <th>id</th>\n",
              "      <th>job_title</th>\n",
              "      <th>location</th>\n",
              "      <th>connection</th>\n",
              "      <th>fit</th>\n",
              "    </tr>\n",
              "  </thead>\n",
              "  <tbody>\n",
              "    <tr>\n",
              "      <th>0</th>\n",
              "      <td>1</td>\n",
              "      <td>2019 C.T. Bauer College of Business Graduate (...</td>\n",
              "      <td>Houston, Texas</td>\n",
              "      <td>85</td>\n",
              "      <td>NaN</td>\n",
              "    </tr>\n",
              "    <tr>\n",
              "      <th>1</th>\n",
              "      <td>2</td>\n",
              "      <td>Native English Teacher at EPIK (English Progra...</td>\n",
              "      <td>Kanada</td>\n",
              "      <td>500+</td>\n",
              "      <td>NaN</td>\n",
              "    </tr>\n",
              "    <tr>\n",
              "      <th>2</th>\n",
              "      <td>3</td>\n",
              "      <td>Aspiring Human Resources Professional</td>\n",
              "      <td>Raleigh-Durham, North Carolina Area</td>\n",
              "      <td>44</td>\n",
              "      <td>NaN</td>\n",
              "    </tr>\n",
              "    <tr>\n",
              "      <th>3</th>\n",
              "      <td>4</td>\n",
              "      <td>People Development Coordinator at Ryan</td>\n",
              "      <td>Denton, Texas</td>\n",
              "      <td>500+</td>\n",
              "      <td>NaN</td>\n",
              "    </tr>\n",
              "    <tr>\n",
              "      <th>4</th>\n",
              "      <td>5</td>\n",
              "      <td>Advisory Board Member at Celal Bayar University</td>\n",
              "      <td>İzmir, Türkiye</td>\n",
              "      <td>500+</td>\n",
              "      <td>NaN</td>\n",
              "    </tr>\n",
              "  </tbody>\n",
              "</table>\n",
              "</div>\n",
              "      <button class=\"colab-df-convert\" onclick=\"convertToInteractive('df-f70950a6-66f9-4055-bc8c-8511101eaa79')\"\n",
              "              title=\"Convert this dataframe to an interactive table.\"\n",
              "              style=\"display:none;\">\n",
              "        \n",
              "  <svg xmlns=\"http://www.w3.org/2000/svg\" height=\"24px\"viewBox=\"0 0 24 24\"\n",
              "       width=\"24px\">\n",
              "    <path d=\"M0 0h24v24H0V0z\" fill=\"none\"/>\n",
              "    <path d=\"M18.56 5.44l.94 2.06.94-2.06 2.06-.94-2.06-.94-.94-2.06-.94 2.06-2.06.94zm-11 1L8.5 8.5l.94-2.06 2.06-.94-2.06-.94L8.5 2.5l-.94 2.06-2.06.94zm10 10l.94 2.06.94-2.06 2.06-.94-2.06-.94-.94-2.06-.94 2.06-2.06.94z\"/><path d=\"M17.41 7.96l-1.37-1.37c-.4-.4-.92-.59-1.43-.59-.52 0-1.04.2-1.43.59L10.3 9.45l-7.72 7.72c-.78.78-.78 2.05 0 2.83L4 21.41c.39.39.9.59 1.41.59.51 0 1.02-.2 1.41-.59l7.78-7.78 2.81-2.81c.8-.78.8-2.07 0-2.86zM5.41 20L4 18.59l7.72-7.72 1.47 1.35L5.41 20z\"/>\n",
              "  </svg>\n",
              "      </button>\n",
              "      \n",
              "  <style>\n",
              "    .colab-df-container {\n",
              "      display:flex;\n",
              "      flex-wrap:wrap;\n",
              "      gap: 12px;\n",
              "    }\n",
              "\n",
              "    .colab-df-convert {\n",
              "      background-color: #E8F0FE;\n",
              "      border: none;\n",
              "      border-radius: 50%;\n",
              "      cursor: pointer;\n",
              "      display: none;\n",
              "      fill: #1967D2;\n",
              "      height: 32px;\n",
              "      padding: 0 0 0 0;\n",
              "      width: 32px;\n",
              "    }\n",
              "\n",
              "    .colab-df-convert:hover {\n",
              "      background-color: #E2EBFA;\n",
              "      box-shadow: 0px 1px 2px rgba(60, 64, 67, 0.3), 0px 1px 3px 1px rgba(60, 64, 67, 0.15);\n",
              "      fill: #174EA6;\n",
              "    }\n",
              "\n",
              "    [theme=dark] .colab-df-convert {\n",
              "      background-color: #3B4455;\n",
              "      fill: #D2E3FC;\n",
              "    }\n",
              "\n",
              "    [theme=dark] .colab-df-convert:hover {\n",
              "      background-color: #434B5C;\n",
              "      box-shadow: 0px 1px 3px 1px rgba(0, 0, 0, 0.15);\n",
              "      filter: drop-shadow(0px 1px 2px rgba(0, 0, 0, 0.3));\n",
              "      fill: #FFFFFF;\n",
              "    }\n",
              "  </style>\n",
              "\n",
              "      <script>\n",
              "        const buttonEl =\n",
              "          document.querySelector('#df-f70950a6-66f9-4055-bc8c-8511101eaa79 button.colab-df-convert');\n",
              "        buttonEl.style.display =\n",
              "          google.colab.kernel.accessAllowed ? 'block' : 'none';\n",
              "\n",
              "        async function convertToInteractive(key) {\n",
              "          const element = document.querySelector('#df-f70950a6-66f9-4055-bc8c-8511101eaa79');\n",
              "          const dataTable =\n",
              "            await google.colab.kernel.invokeFunction('convertToInteractive',\n",
              "                                                     [key], {});\n",
              "          if (!dataTable) return;\n",
              "\n",
              "          const docLinkHtml = 'Like what you see? Visit the ' +\n",
              "            '<a target=\"_blank\" href=https://colab.research.google.com/notebooks/data_table.ipynb>data table notebook</a>'\n",
              "            + ' to learn more about interactive tables.';\n",
              "          element.innerHTML = '';\n",
              "          dataTable['output_type'] = 'display_data';\n",
              "          await google.colab.output.renderOutput(dataTable, element);\n",
              "          const docLink = document.createElement('div');\n",
              "          docLink.innerHTML = docLinkHtml;\n",
              "          element.appendChild(docLink);\n",
              "        }\n",
              "      </script>\n",
              "    </div>\n",
              "  </div>\n",
              "  "
            ]
          },
          "metadata": {},
          "execution_count": 4
        }
      ],
      "source": [
        "df = pd.read_csv('./data/potential-talents - Aspiring human resources - seeking human resources.csv')\n",
        "df.head()"
      ]
    },
    {
      "cell_type": "code",
      "execution_count": 5,
      "id": "09872ea4",
      "metadata": {
        "ExecuteTime": {
          "end_time": "2023-03-19T00:48:02.106638Z",
          "start_time": "2023-03-19T00:48:02.100506Z"
        },
        "colab": {
          "base_uri": "https://localhost:8080/"
        },
        "id": "09872ea4",
        "outputId": "b3502ab1-da31-49c4-81e5-857cbeb34ad8"
      },
      "outputs": [
        {
          "output_type": "stream",
          "name": "stdout",
          "text": [
            "<class 'pandas.core.frame.DataFrame'>\n",
            "RangeIndex: 104 entries, 0 to 103\n",
            "Data columns (total 5 columns):\n",
            " #   Column      Non-Null Count  Dtype  \n",
            "---  ------      --------------  -----  \n",
            " 0   id          104 non-null    int64  \n",
            " 1   job_title   104 non-null    object \n",
            " 2   location    104 non-null    object \n",
            " 3   connection  104 non-null    object \n",
            " 4   fit         0 non-null      float64\n",
            "dtypes: float64(1), int64(1), object(3)\n",
            "memory usage: 4.2+ KB\n"
          ]
        }
      ],
      "source": [
        "df.info()"
      ]
    },
    {
      "cell_type": "markdown",
      "id": "039ecf1c",
      "metadata": {
        "id": "039ecf1c"
      },
      "source": [
        "### Wrangling `location`"
      ]
    },
    {
      "cell_type": "markdown",
      "id": "c1c5e220",
      "metadata": {
        "id": "c1c5e220"
      },
      "source": [
        "We have the current job title of the candidates as well as their location and how many connections they have. The location could have been a criteria for initial ranking if there was information given about the location of the company and if there exists any geological preference when selecting a candidate.\n",
        "\n",
        "We could also argue that the location distribution of candidates applying for this job represents the size of the labor force at that location and thereby imply a higher likelihood of a candidate having more human resource comparing to candidates from a location with less number of candidates.\n",
        "\n",
        "We can get a sense of the candidate distribution by processing the location data and plotting."
      ]
    },
    {
      "cell_type": "code",
      "execution_count": 6,
      "id": "0908e2d7",
      "metadata": {
        "ExecuteTime": {
          "end_time": "2023-03-19T00:48:02.285172Z",
          "start_time": "2023-03-19T00:48:02.107499Z"
        },
        "colab": {
          "base_uri": "https://localhost:8080/",
          "height": 823
        },
        "id": "0908e2d7",
        "outputId": "75ad6540-6a5b-4c97-90d9-155852c549ae"
      },
      "outputs": [
        {
          "output_type": "display_data",
          "data": {
            "text/plain": [
              "<Figure size 720x1008 with 1 Axes>"
            ],
            "image/png": "[encoded data removed]"
          },
          "metadata": {
            "needs_background": "light"
          }
        }
      ],
      "source": [
        "# We will take the last sector of the location data as the location of the candidate\n",
        "df['location'] = df['location'].apply(lambda x: x.split(',')[-1])\n",
        "\n",
        "# As there are different naming to the same location, i.e Greater Texas Area vs Texas, \n",
        "# we need to strip the location to the same representation\n",
        "remove_texts = ['Greater', 'Area', ' ']\n",
        "for text in remove_texts:\n",
        "    df['location'] = df['location'].apply(lambda x: x.replace(text, ''))\n",
        "\n",
        "# plot the distribution of the candidates\n",
        "plt.figure(figsize=(10, 0.5*len(df['location'].value_counts())))\n",
        "sns.countplot(y='location', data=df, order = df['location'].value_counts().index, color=\"#58508d\")\n",
        "plt.show()"
      ]
    },
    {
      "cell_type": "markdown",
      "id": "5594cd9c",
      "metadata": {
        "id": "5594cd9c"
      },
      "source": [
        "The locations with the most candidates are Texas, California, North Carolina and NYC. There are also 12 Canadian candidates. Now that we have processed the location data and get the distribution of the candidates, we can see if there is evidence supporting our hypothesis by verifying if candidates from the top locations have more connections than candidates from the other locations."
      ]
    },
    {
      "cell_type": "code",
      "execution_count": 7,
      "id": "7603f660",
      "metadata": {
        "ExecuteTime": {
          "end_time": "2023-03-19T00:48:02.288212Z",
          "start_time": "2023-03-19T00:48:02.285968Z"
        },
        "id": "7603f660"
      },
      "outputs": [],
      "source": [
        "# First we need to convert connections to numerical\n",
        "df['connection'] = df['connection'].apply(lambda x: int(x.replace('+', '')))"
      ]
    },
    {
      "cell_type": "code",
      "execution_count": 8,
      "id": "5af5816d",
      "metadata": {
        "ExecuteTime": {
          "end_time": "2023-03-19T00:48:02.317564Z",
          "start_time": "2023-03-19T00:48:02.289091Z"
        },
        "colab": {
          "base_uri": "https://localhost:8080/",
          "height": 927
        },
        "id": "5af5816d",
        "outputId": "6172d362-e3f2-4fb0-ca79-de0e998847bf"
      },
      "outputs": [
        {
          "output_type": "execute_result",
          "data": {
            "text/plain": [
              "                     location  count        mean\n",
              "0                       Texas   24.0  305.708333\n",
              "1                      Kanada   12.0  243.916667\n",
              "2                  California   10.0   91.700000\n",
              "3               NorthCarolina    8.0  158.000000\n",
              "4                 NewYorkCity    7.0   79.142857\n",
              "5             SanFranciscoBay    5.0  500.000000\n",
              "6                Philadelphia    5.0  500.000000\n",
              "7                     Georgia    4.0  500.000000\n",
              "8                     Türkiye    4.0  500.000000\n",
              "9                    Illinois    2.0  390.000000\n",
              "10                    Indiana    2.0   45.000000\n",
              "11                  Louisiana    2.0    6.000000\n",
              "12                   Maryland    2.0   22.000000\n",
              "13                    Atlanta    2.0  252.000000\n",
              "14  AmerikaBirleşikDevletleri    2.0  457.500000\n",
              "15                  Tennessee    1.0  455.000000\n",
              "16                    NewYork    1.0  212.000000\n",
              "17              SouthCarolina    1.0   52.000000\n",
              "18                   Michigan    1.0  500.000000\n",
              "19                     Nevada    1.0   48.000000\n",
              "20                   Missouri    1.0  103.000000\n",
              "21                Mississippi    1.0  500.000000\n",
              "22              Massachusetts    1.0   57.000000\n",
              "23                 LosAngeles    1.0  500.000000\n",
              "24           Dallas/FortWorth    1.0  409.000000\n",
              "25                    Chicago    1.0   39.000000\n",
              "26                     Boston    1.0   16.000000\n",
              "27                   Virginia    1.0   82.000000"
            ],
            "text/html": [
              "\n",
              "  <div id=\"df-efa882de-7401-4f62-b9e8-e112763c58e6\">\n",
              "    <div class=\"colab-df-container\">\n",
              "      <div>\n",
              "<style scoped>\n",
              "    .dataframe tbody tr th:only-of-type {\n",
              "        vertical-align: middle;\n",
              "    }\n",
              "\n",
              "    .dataframe tbody tr th {\n",
              "        vertical-align: top;\n",
              "    }\n",
              "\n",
              "    .dataframe thead th {\n",
              "        text-align: right;\n",
              "    }\n",
              "</style>\n",
              "<table border=\"1\" class=\"dataframe\">\n",
              "  <thead>\n",
              "    <tr style=\"text-align: right;\">\n",
              "      <th></th>\n",
              "      <th>location</th>\n",
              "      <th>count</th>\n",
              "      <th>mean</th>\n",
              "    </tr>\n",
              "  </thead>\n",
              "  <tbody>\n",
              "    <tr>\n",
              "      <th>0</th>\n",
              "      <td>Texas</td>\n",
              "      <td>24.0</td>\n",
              "      <td>305.708333</td>\n",
              "    </tr>\n",
              "    <tr>\n",
              "      <th>1</th>\n",
              "      <td>Kanada</td>\n",
              "      <td>12.0</td>\n",
              "      <td>243.916667</td>\n",
              "    </tr>\n",
              "    <tr>\n",
              "      <th>2</th>\n",
              "      <td>California</td>\n",
              "      <td>10.0</td>\n",
              "      <td>91.700000</td>\n",
              "    </tr>\n",
              "    <tr>\n",
              "      <th>3</th>\n",
              "      <td>NorthCarolina</td>\n",
              "      <td>8.0</td>\n",
              "      <td>158.000000</td>\n",
              "    </tr>\n",
              "    <tr>\n",
              "      <th>4</th>\n",
              "      <td>NewYorkCity</td>\n",
              "      <td>7.0</td>\n",
              "      <td>79.142857</td>\n",
              "    </tr>\n",
              "    <tr>\n",
              "      <th>5</th>\n",
              "      <td>SanFranciscoBay</td>\n",
              "      <td>5.0</td>\n",
              "      <td>500.000000</td>\n",
              "    </tr>\n",
              "    <tr>\n",
              "      <th>6</th>\n",
              "      <td>Philadelphia</td>\n",
              "      <td>5.0</td>\n",
              "      <td>500.000000</td>\n",
              "    </tr>\n",
              "    <tr>\n",
              "      <th>7</th>\n",
              "      <td>Georgia</td>\n",
              "      <td>4.0</td>\n",
              "      <td>500.000000</td>\n",
              "    </tr>\n",
              "    <tr>\n",
              "      <th>8</th>\n",
              "      <td>Türkiye</td>\n",
              "      <td>4.0</td>\n",
              "      <td>500.000000</td>\n",
              "    </tr>\n",
              "    <tr>\n",
              "      <th>9</th>\n",
              "      <td>Illinois</td>\n",
              "      <td>2.0</td>\n",
              "      <td>390.000000</td>\n",
              "    </tr>\n",
              "    <tr>\n",
              "      <th>10</th>\n",
              "      <td>Indiana</td>\n",
              "      <td>2.0</td>\n",
              "      <td>45.000000</td>\n",
              "    </tr>\n",
              "    <tr>\n",
              "      <th>11</th>\n",
              "      <td>Louisiana</td>\n",
              "      <td>2.0</td>\n",
              "      <td>6.000000</td>\n",
              "    </tr>\n",
              "    <tr>\n",
              "      <th>12</th>\n",
              "      <td>Maryland</td>\n",
              "      <td>2.0</td>\n",
              "      <td>22.000000</td>\n",
              "    </tr>\n",
              "    <tr>\n",
              "      <th>13</th>\n",
              "      <td>Atlanta</td>\n",
              "      <td>2.0</td>\n",
              "      <td>252.000000</td>\n",
              "    </tr>\n",
              "    <tr>\n",
              "      <th>14</th>\n",
              "      <td>AmerikaBirleşikDevletleri</td>\n",
              "      <td>2.0</td>\n",
              "      <td>457.500000</td>\n",
              "    </tr>\n",
              "    <tr>\n",
              "      <th>15</th>\n",
              "      <td>Tennessee</td>\n",
              "      <td>1.0</td>\n",
              "      <td>455.000000</td>\n",
              "    </tr>\n",
              "    <tr>\n",
              "      <th>16</th>\n",
              "      <td>NewYork</td>\n",
              "      <td>1.0</td>\n",
              "      <td>212.000000</td>\n",
              "    </tr>\n",
              "    <tr>\n",
              "      <th>17</th>\n",
              "      <td>SouthCarolina</td>\n",
              "      <td>1.0</td>\n",
              "      <td>52.000000</td>\n",
              "    </tr>\n",
              "    <tr>\n",
              "      <th>18</th>\n",
              "      <td>Michigan</td>\n",
              "      <td>1.0</td>\n",
              "      <td>500.000000</td>\n",
              "    </tr>\n",
              "    <tr>\n",
              "      <th>19</th>\n",
              "      <td>Nevada</td>\n",
              "      <td>1.0</td>\n",
              "      <td>48.000000</td>\n",
              "    </tr>\n",
              "    <tr>\n",
              "      <th>20</th>\n",
              "      <td>Missouri</td>\n",
              "      <td>1.0</td>\n",
              "      <td>103.000000</td>\n",
              "    </tr>\n",
              "    <tr>\n",
              "      <th>21</th>\n",
              "      <td>Mississippi</td>\n",
              "      <td>1.0</td>\n",
              "      <td>500.000000</td>\n",
              "    </tr>\n",
              "    <tr>\n",
              "      <th>22</th>\n",
              "      <td>Massachusetts</td>\n",
              "      <td>1.0</td>\n",
              "      <td>57.000000</td>\n",
              "    </tr>\n",
              "    <tr>\n",
              "      <th>23</th>\n",
              "      <td>LosAngeles</td>\n",
              "      <td>1.0</td>\n",
              "      <td>500.000000</td>\n",
              "    </tr>\n",
              "    <tr>\n",
              "      <th>24</th>\n",
              "      <td>Dallas/FortWorth</td>\n",
              "      <td>1.0</td>\n",
              "      <td>409.000000</td>\n",
              "    </tr>\n",
              "    <tr>\n",
              "      <th>25</th>\n",
              "      <td>Chicago</td>\n",
              "      <td>1.0</td>\n",
              "      <td>39.000000</td>\n",
              "    </tr>\n",
              "    <tr>\n",
              "      <th>26</th>\n",
              "      <td>Boston</td>\n",
              "      <td>1.0</td>\n",
              "      <td>16.000000</td>\n",
              "    </tr>\n",
              "    <tr>\n",
              "      <th>27</th>\n",
              "      <td>Virginia</td>\n",
              "      <td>1.0</td>\n",
              "      <td>82.000000</td>\n",
              "    </tr>\n",
              "  </tbody>\n",
              "</table>\n",
              "</div>\n",
              "      <button class=\"colab-df-convert\" onclick=\"convertToInteractive('df-efa882de-7401-4f62-b9e8-e112763c58e6')\"\n",
              "              title=\"Convert this dataframe to an interactive table.\"\n",
              "              style=\"display:none;\">\n",
              "        \n",
              "  <svg xmlns=\"http://www.w3.org/2000/svg\" height=\"24px\"viewBox=\"0 0 24 24\"\n",
              "       width=\"24px\">\n",
              "    <path d=\"M0 0h24v24H0V0z\" fill=\"none\"/>\n",
              "    <path d=\"M18.56 5.44l.94 2.06.94-2.06 2.06-.94-2.06-.94-.94-2.06-.94 2.06-2.06.94zm-11 1L8.5 8.5l.94-2.06 2.06-.94-2.06-.94L8.5 2.5l-.94 2.06-2.06.94zm10 10l.94 2.06.94-2.06 2.06-.94-2.06-.94-.94-2.06-.94 2.06-2.06.94z\"/><path d=\"M17.41 7.96l-1.37-1.37c-.4-.4-.92-.59-1.43-.59-.52 0-1.04.2-1.43.59L10.3 9.45l-7.72 7.72c-.78.78-.78 2.05 0 2.83L4 21.41c.39.39.9.59 1.41.59.51 0 1.02-.2 1.41-.59l7.78-7.78 2.81-2.81c.8-.78.8-2.07 0-2.86zM5.41 20L4 18.59l7.72-7.72 1.47 1.35L5.41 20z\"/>\n",
              "  </svg>\n",
              "      </button>\n",
              "      \n",
              "  <style>\n",
              "    .colab-df-container {\n",
              "      display:flex;\n",
              "      flex-wrap:wrap;\n",
              "      gap: 12px;\n",
              "    }\n",
              "\n",
              "    .colab-df-convert {\n",
              "      background-color: #E8F0FE;\n",
              "      border: none;\n",
              "      border-radius: 50%;\n",
              "      cursor: pointer;\n",
              "      display: none;\n",
              "      fill: #1967D2;\n",
              "      height: 32px;\n",
              "      padding: 0 0 0 0;\n",
              "      width: 32px;\n",
              "    }\n",
              "\n",
              "    .colab-df-convert:hover {\n",
              "      background-color: #E2EBFA;\n",
              "      box-shadow: 0px 1px 2px rgba(60, 64, 67, 0.3), 0px 1px 3px 1px rgba(60, 64, 67, 0.15);\n",
              "      fill: #174EA6;\n",
              "    }\n",
              "\n",
              "    [theme=dark] .colab-df-convert {\n",
              "      background-color: #3B4455;\n",
              "      fill: #D2E3FC;\n",
              "    }\n",
              "\n",
              "    [theme=dark] .colab-df-convert:hover {\n",
              "      background-color: #434B5C;\n",
              "      box-shadow: 0px 1px 3px 1px rgba(0, 0, 0, 0.15);\n",
              "      filter: drop-shadow(0px 1px 2px rgba(0, 0, 0, 0.3));\n",
              "      fill: #FFFFFF;\n",
              "    }\n",
              "  </style>\n",
              "\n",
              "      <script>\n",
              "        const buttonEl =\n",
              "          document.querySelector('#df-efa882de-7401-4f62-b9e8-e112763c58e6 button.colab-df-convert');\n",
              "        buttonEl.style.display =\n",
              "          google.colab.kernel.accessAllowed ? 'block' : 'none';\n",
              "\n",
              "        async function convertToInteractive(key) {\n",
              "          const element = document.querySelector('#df-efa882de-7401-4f62-b9e8-e112763c58e6');\n",
              "          const dataTable =\n",
              "            await google.colab.kernel.invokeFunction('convertToInteractive',\n",
              "                                                     [key], {});\n",
              "          if (!dataTable) return;\n",
              "\n",
              "          const docLinkHtml = 'Like what you see? Visit the ' +\n",
              "            '<a target=\"_blank\" href=https://colab.research.google.com/notebooks/data_table.ipynb>data table notebook</a>'\n",
              "            + ' to learn more about interactive tables.';\n",
              "          element.innerHTML = '';\n",
              "          dataTable['output_type'] = 'display_data';\n",
              "          await google.colab.output.renderOutput(dataTable, element);\n",
              "          const docLink = document.createElement('div');\n",
              "          docLink.innerHTML = docLinkHtml;\n",
              "          element.appendChild(docLink);\n",
              "        }\n",
              "      </script>\n",
              "    </div>\n",
              "  </div>\n",
              "  "
            ]
          },
          "metadata": {},
          "execution_count": 8
        }
      ],
      "source": [
        "location_connection_df = df.groupby('location')['connection']\\\n",
        "        .describe()[['count', 'mean']]\\\n",
        "        .sort_values(by='count',ascending=False)\\\n",
        "        .reset_index()\n",
        "location_connection_df"
      ]
    },
    {
      "cell_type": "markdown",
      "id": "9c21d388",
      "metadata": {
        "id": "9c21d388"
      },
      "source": [
        "There is no evidence supporting the assumption that locations with higher amount of candidates would have higher average connections per candidate. Therefore we will skip it for now and focus on `job_title` and `connection` which are probably more reliable as the criterion for the initial ranking.\n",
        "\n",
        "We will still consider using `location` when re-ranking the candidates when anyone is starred."
      ]
    },
    {
      "cell_type": "markdown",
      "id": "e3b7c192",
      "metadata": {
        "id": "e3b7c192"
      },
      "source": [
        "### Wrangling `connection`"
      ]
    },
    {
      "cell_type": "markdown",
      "id": "5933c6d0",
      "metadata": {
        "id": "5933c6d0"
      },
      "source": [
        "As we have converted the connection data into numerical values, we can visualize the connection numbers with a histogram."
      ]
    },
    {
      "cell_type": "code",
      "execution_count": 9,
      "id": "f1016450",
      "metadata": {
        "ExecuteTime": {
          "end_time": "2023-03-19T00:48:02.392374Z",
          "start_time": "2023-03-19T00:48:02.318488Z"
        },
        "colab": {
          "base_uri": "https://localhost:8080/",
          "height": 295
        },
        "id": "f1016450",
        "outputId": "35e35d86-f952-460c-e4bb-df36e6eb272e"
      },
      "outputs": [
        {
          "output_type": "display_data",
          "data": {
            "text/plain": [
              "<Figure size 432x288 with 1 Axes>"
            ],
            "image/png": "[encoded data removed]"
          },
          "metadata": {
            "needs_background": "light"
          }
        }
      ],
      "source": [
        "plt.hist(df['connection'], bins=20)\n",
        "plt.xlabel('number of connections')\n",
        "plt.ylabel('number of candidates')\n",
        "plt.title('number of candidates vs connection')\n",
        "plt.show()"
      ]
    },
    {
      "cell_type": "markdown",
      "id": "3bfbc6f2",
      "metadata": {
        "id": "3bfbc6f2"
      },
      "source": [
        "Most of the candidates have either lower than 100 connections or 500+ of connections. Considering the job is regarding human resourcing, it is safe to assume that having more connections should considered an asset.\n",
        "\n",
        "We can develop a metric called `connection_factor` which is the weight factor of the number of connections with 0 equal to 0 and 500 equal to 1."
      ]
    },
    {
      "cell_type": "code",
      "execution_count": 10,
      "id": "cbeff2b5",
      "metadata": {
        "ExecuteTime": {
          "end_time": "2023-03-19T00:48:02.395357Z",
          "start_time": "2023-03-19T00:48:02.393148Z"
        },
        "id": "cbeff2b5"
      },
      "outputs": [],
      "source": [
        "df['connection_factor'] = df['connection']/500"
      ]
    },
    {
      "cell_type": "markdown",
      "id": "9762b52d",
      "metadata": {
        "id": "9762b52d"
      },
      "source": [
        "We will get the semantics of the `job_title` with embeddings. We will achieve this using BERT Tokenizer."
      ]
    },
    {
      "cell_type": "code",
      "source": [
        "!pip install pytorch-pretrained-bert pytorch-nlp\n",
        "!pip install keras_preprocessing"
      ],
      "metadata": {
        "colab": {
          "base_uri": "https://localhost:8080/"
        },
        "id": "kCkWtwm4XMHP",
        "outputId": "b357c5bd-f32a-4aae-fe29-4f9cdb51216e"
      },
      "id": "kCkWtwm4XMHP",
      "execution_count": 16,
      "outputs": [
        {
          "output_type": "stream",
          "name": "stdout",
          "text": [
            "Looking in indexes: https://pypi.org/simple, https://us-python.pkg.dev/colab-wheels/public/simple/\n",
            "Requirement already satisfied: pytorch-pretrained-bert in /usr/local/lib/python3.9/dist-packages (0.6.2)\n",
            "Requirement already satisfied: pytorch-nlp in /usr/local/lib/python3.9/dist-packages (0.5.0)\n",
            "Requirement already satisfied: requests in /usr/local/lib/python3.9/dist-packages (from pytorch-pretrained-bert) (2.27.1)\n",
            "Requirement already satisfied: numpy in /usr/local/lib/python3.9/dist-packages (from pytorch-pretrained-bert) (1.22.4)\n",
            "Requirement already satisfied: regex in /usr/local/lib/python3.9/dist-packages (from pytorch-pretrained-bert) (2022.10.31)\n",
            "Requirement already satisfied: torch>=0.4.1 in /usr/local/lib/python3.9/dist-packages (from pytorch-pretrained-bert) (1.13.1+cu116)\n",
            "Requirement already satisfied: boto3 in /usr/local/lib/python3.9/dist-packages (from pytorch-pretrained-bert) (1.26.94)\n",
            "Requirement already satisfied: tqdm in /usr/local/lib/python3.9/dist-packages (from pytorch-pretrained-bert) (4.65.0)\n",
            "Requirement already satisfied: typing-extensions in /usr/local/lib/python3.9/dist-packages (from torch>=0.4.1->pytorch-pretrained-bert) (4.5.0)\n",
            "Requirement already satisfied: botocore<1.30.0,>=1.29.94 in /usr/local/lib/python3.9/dist-packages (from boto3->pytorch-pretrained-bert) (1.29.94)\n",
            "Requirement already satisfied: jmespath<2.0.0,>=0.7.1 in /usr/local/lib/python3.9/dist-packages (from boto3->pytorch-pretrained-bert) (1.0.1)\n",
            "Requirement already satisfied: s3transfer<0.7.0,>=0.6.0 in /usr/local/lib/python3.9/dist-packages (from boto3->pytorch-pretrained-bert) (0.6.0)\n",
            "Requirement already satisfied: idna<4,>=2.5 in /usr/local/lib/python3.9/dist-packages (from requests->pytorch-pretrained-bert) (3.4)\n",
            "Requirement already satisfied: certifi>=2017.4.17 in /usr/local/lib/python3.9/dist-packages (from requests->pytorch-pretrained-bert) (2022.12.7)\n",
            "Requirement already satisfied: charset-normalizer~=2.0.0 in /usr/local/lib/python3.9/dist-packages (from requests->pytorch-pretrained-bert) (2.0.12)\n",
            "Requirement already satisfied: urllib3<1.27,>=1.21.1 in /usr/local/lib/python3.9/dist-packages (from requests->pytorch-pretrained-bert) (1.26.15)\n",
            "Requirement already satisfied: python-dateutil<3.0.0,>=2.1 in /usr/local/lib/python3.9/dist-packages (from botocore<1.30.0,>=1.29.94->boto3->pytorch-pretrained-bert) (2.8.2)\n",
            "Requirement already satisfied: six>=1.5 in /usr/local/lib/python3.9/dist-packages (from python-dateutil<3.0.0,>=2.1->botocore<1.30.0,>=1.29.94->boto3->pytorch-pretrained-bert) (1.15.0)\n",
            "Looking in indexes: https://pypi.org/simple, https://us-python.pkg.dev/colab-wheels/public/simple/\n",
            "Collecting keras_preprocessing\n",
            "  Downloading Keras_Preprocessing-1.1.2-py2.py3-none-any.whl (42 kB)\n",
            "\u001b[2K     \u001b[90m━━━━━━━━━━━━━━━━━━━━━━━━━━━━━━━━━━━━━━━━\u001b[0m \u001b[32m42.6/42.6 KB\u001b[0m \u001b[31m2.2 MB/s\u001b[0m eta \u001b[36m0:00:00\u001b[0m\n",
            "\u001b[?25hRequirement already satisfied: numpy>=1.9.1 in /usr/local/lib/python3.9/dist-packages (from keras_preprocessing) (1.22.4)\n",
            "Requirement already satisfied: six>=1.9.0 in /usr/local/lib/python3.9/dist-packages (from keras_preprocessing) (1.15.0)\n",
            "Installing collected packages: keras_preprocessing\n",
            "Successfully installed keras_preprocessing-1.1.2\n"
          ]
        }
      ]
    },
    {
      "cell_type": "code",
      "execution_count": 17,
      "id": "5a397fd3",
      "metadata": {
        "ExecuteTime": {
          "start_time": "2023-03-19T00:48:01.340Z"
        },
        "id": "5a397fd3"
      },
      "outputs": [],
      "source": [
        "import torch\n",
        "from keras_preprocessing.sequence import pad_sequences\n",
        "from sklearn.model_selection import train_test_split\n",
        "from pytorch_pretrained_bert import BertTokenizer, BertConfig"
      ]
    },
    {
      "cell_type": "code",
      "source": [
        "# Create sentence and label lists\n",
        "sentences = df['job_title'].values\n",
        "\n",
        "# We need to add special tokens at the beginning and end of each sentence for BERT to work properly\n",
        "sentences = [\"[CLS] \" + sentence + \" [SEP]\" for sentence in sentences]\n",
        "\n",
        "tokenizer = BertTokenizer.from_pretrained('bert-base-uncased', do_lower_case=True)\n",
        "\n",
        "tokenized_texts = [tokenizer.tokenize(sent) for sent in sentences]\n",
        "print (\"Tokenize the first sentence:\")\n",
        "print (tokenized_texts[0])"
      ],
      "metadata": {
        "colab": {
          "base_uri": "https://localhost:8080/"
        },
        "id": "-RtpsQg5Y1od",
        "outputId": "1d4ec281-7ad9-4772-8526-1acd2fe5c5b3"
      },
      "id": "-RtpsQg5Y1od",
      "execution_count": 19,
      "outputs": [
        {
          "output_type": "stream",
          "name": "stderr",
          "text": [
            "100%|██████████| 231508/231508 [00:00<00:00, 420165.44B/s]\n"
          ]
        },
        {
          "output_type": "stream",
          "name": "stdout",
          "text": [
            "Tokenize the first sentence:\n",
            "['[CLS]', '2019', 'c', '.', 't', '.', 'bauer', 'college', 'of', 'business', 'graduate', '(', 'magna', 'cum', 'laude', ')', 'and', 'aspiring', 'human', 'resources', 'professional', '[SEP]']\n"
          ]
        }
      ]
    },
    {
      "cell_type": "code",
      "metadata": {
        "id": "Cp9BPRd1tMIo"
      },
      "source": [
        "MAX_LEN = 128\n",
        "KEYWORDS = [“Aspiring human resources”, “seeking human resources”]"
      ],
      "execution_count": 20,
      "outputs": [],
      "id": "Cp9BPRd1tMIo"
    },
    {
      "cell_type": "code",
      "metadata": {
        "id": "mFhowDMohU4H"
      },
      "source": [
        "# Use the BERT tokenizer to convert the tokens to their index numbers in the BERT vocabulary\n",
        "input_ids = [tokenizer.convert_tokens_to_ids(x) for x in tokenized_texts]"
      ],
      "execution_count": 21,
      "outputs": [],
      "id": "mFhowDMohU4H"
    },
    {
      "cell_type": "code",
      "metadata": {
        "id": "kDs-MYtYH8sL"
      },
      "source": [
        "# Pad our input tokens\n",
        "input_ids = pad_sequences(input_ids, maxlen=MAX_LEN, dtype=\"long\", truncating=\"post\", padding=\"post\")"
      ],
      "execution_count": 22,
      "outputs": [],
      "id": "kDs-MYtYH8sL"
    },
    {
      "cell_type": "code",
      "metadata": {
        "id": "cDoC24LeEv3N"
      },
      "source": [
        "# Create attention masks\n",
        "attention_masks = []\n",
        "\n",
        "# Create a mask of 1s for each token followed by 0s for padding\n",
        "for seq in input_ids:\n",
        "  seq_mask = [float(i>0) for i in seq]\n",
        "  attention_masks.append(seq_mask)"
      ],
      "execution_count": 23,
      "outputs": [],
      "id": "cDoC24LeEv3N"
    },
    {
      "cell_type": "code",
      "metadata": {
        "id": "aFbE-UHvsb7-"
      },
      "source": [
        "# Use train_test_split to split our data into train and validation sets for training\n",
        "\n",
        "train_inputs, validation_inputs = train_test_split(input_ids, \n",
        "                                            random_state=2018, test_size=0.1)\n",
        "train_masks, validation_masks, _, _ = train_test_split(attention_masks, input_ids,\n",
        "                                             random_state=2018, test_size=0.1)"
      ],
      "execution_count": 25,
      "outputs": [],
      "id": "aFbE-UHvsb7-"
    },
    {
      "cell_type": "code",
      "source": [
        "# Convert all of our data into torch tensors, the required datatype for our model\n",
        "\n",
        "train_inputs = torch.tensor(train_inputs)\n",
        "validation_inputs = torch.tensor(validation_inputs)\n",
        "train_masks = torch.tensor(train_masks)\n",
        "validation_masks = torch.tensor(validation_masks)"
      ],
      "metadata": {
        "id": "8NrgegPqZwRo"
      },
      "id": "8NrgegPqZwRo",
      "execution_count": 26,
      "outputs": []
    },
    {
      "cell_type": "code",
      "source": [
        "df['job_title'][:5]"
      ],
      "metadata": {
        "colab": {
          "base_uri": "https://localhost:8080/"
        },
        "id": "dAjBXalJZ5hd",
        "outputId": "68545488-6eab-49ed-fa2f-36eaefb3799b"
      },
      "id": "dAjBXalJZ5hd",
      "execution_count": 28,
      "outputs": [
        {
          "output_type": "execute_result",
          "data": {
            "text/plain": [
              "0    2019 C.T. Bauer College of Business Graduate (...\n",
              "1    Native English Teacher at EPIK (English Progra...\n",
              "2                Aspiring Human Resources Professional\n",
              "3               People Development Coordinator at Ryan\n",
              "4      Advisory Board Member at Celal Bayar University\n",
              "Name: job_title, dtype: object"
            ]
          },
          "metadata": {},
          "execution_count": 28
        }
      ]
    },
    {
      "cell_type": "code",
      "source": [
        "train_inputs[:5]"
      ],
      "metadata": {
        "colab": {
          "base_uri": "https://localhost:8080/"
        },
        "id": "18Lr5MuGZ01s",
        "outputId": "3b3da7f2-fbe3-40eb-de7c-409324a60e8a"
      },
      "id": "18Lr5MuGZ01s",
      "execution_count": 27,
      "outputs": [
        {
          "output_type": "execute_result",
          "data": {
            "text/plain": [
              "tensor([[  101,  2472,  1997,  2529,  4219,  2167,  2637,  1010,  2177,  2063,\n",
              "          3841, 12870,  4887,   102,     0,     0,     0,     0,     0,     0,\n",
              "             0,     0,     0,     0,     0,     0,     0,     0,     0,     0,\n",
              "             0,     0,     0,     0,     0,     0,     0,     0,     0,     0,\n",
              "             0,     0,     0,     0,     0,     0,     0,     0,     0,     0,\n",
              "             0,     0,     0,     0,     0,     0,     0,     0,     0,     0,\n",
              "             0,     0,     0,     0,     0,     0,     0,     0,     0,     0,\n",
              "             0,     0,     0,     0,     0,     0,     0,     0,     0,     0,\n",
              "             0,     0,     0,     0,     0,     0,     0,     0,     0,     0,\n",
              "             0,     0,     0,     0,     0,     0,     0,     0,     0,     0,\n",
              "             0,     0,     0,     0,     0,     0,     0,     0,     0,     0,\n",
              "             0,     0,     0,     0,     0,     0,     0,     0,     0,     0,\n",
              "             0,     0,     0,     0,     0,     0,     0,     0],\n",
              "        [  101,  2111,  2458, 10669,  2012,  4575,   102,     0,     0,     0,\n",
              "             0,     0,     0,     0,     0,     0,     0,     0,     0,     0,\n",
              "             0,     0,     0,     0,     0,     0,     0,     0,     0,     0,\n",
              "             0,     0,     0,     0,     0,     0,     0,     0,     0,     0,\n",
              "             0,     0,     0,     0,     0,     0,     0,     0,     0,     0,\n",
              "             0,     0,     0,     0,     0,     0,     0,     0,     0,     0,\n",
              "             0,     0,     0,     0,     0,     0,     0,     0,     0,     0,\n",
              "             0,     0,     0,     0,     0,     0,     0,     0,     0,     0,\n",
              "             0,     0,     0,     0,     0,     0,     0,     0,     0,     0,\n",
              "             0,     0,     0,     0,     0,     0,     0,     0,     0,     0,\n",
              "             0,     0,     0,     0,     0,     0,     0,     0,     0,     0,\n",
              "             0,     0,     0,     0,     0,     0,     0,     0,     0,     0,\n",
              "             0,     0,     0,     0,     0,     0,     0,     0],\n",
              "        [  101,  3076,  2012, 11526,  2118,   102,     0,     0,     0,     0,\n",
              "             0,     0,     0,     0,     0,     0,     0,     0,     0,     0,\n",
              "             0,     0,     0,     0,     0,     0,     0,     0,     0,     0,\n",
              "             0,     0,     0,     0,     0,     0,     0,     0,     0,     0,\n",
              "             0,     0,     0,     0,     0,     0,     0,     0,     0,     0,\n",
              "             0,     0,     0,     0,     0,     0,     0,     0,     0,     0,\n",
              "             0,     0,     0,     0,     0,     0,     0,     0,     0,     0,\n",
              "             0,     0,     0,     0,     0,     0,     0,     0,     0,     0,\n",
              "             0,     0,     0,     0,     0,     0,     0,     0,     0,     0,\n",
              "             0,     0,     0,     0,     0,     0,     0,     0,     0,     0,\n",
              "             0,     0,     0,     0,     0,     0,     0,     0,     0,     0,\n",
              "             0,     0,     0,     0,     0,     0,     0,     0,     0,     0,\n",
              "             0,     0,     0,     0,     0,     0,     0,     0],\n",
              "        [  101,  5281,  7027,  3208,  1998, 22344,  2529,  4219,  2658,   102,\n",
              "             0,     0,     0,     0,     0,     0,     0,     0,     0,     0,\n",
              "             0,     0,     0,     0,     0,     0,     0,     0,     0,     0,\n",
              "             0,     0,     0,     0,     0,     0,     0,     0,     0,     0,\n",
              "             0,     0,     0,     0,     0,     0,     0,     0,     0,     0,\n",
              "             0,     0,     0,     0,     0,     0,     0,     0,     0,     0,\n",
              "             0,     0,     0,     0,     0,     0,     0,     0,     0,     0,\n",
              "             0,     0,     0,     0,     0,     0,     0,     0,     0,     0,\n",
              "             0,     0,     0,     0,     0,     0,     0,     0,     0,     0,\n",
              "             0,     0,     0,     0,     0,     0,     0,     0,     0,     0,\n",
              "             0,     0,     0,     0,     0,     0,     0,     0,     0,     0,\n",
              "             0,     0,     0,     0,     0,     0,     0,     0,     0,     0,\n",
              "             0,     0,     0,     0,     0,     0,     0,     0],\n",
              "        [  101,  2529,  4219,  1064,  4736,  2968,  1064,  6043,  1004,  8853,\n",
              "          1064,  5848,  2968,  1064,  6666,  1004,  9430,   102,     0,     0,\n",
              "             0,     0,     0,     0,     0,     0,     0,     0,     0,     0,\n",
              "             0,     0,     0,     0,     0,     0,     0,     0,     0,     0,\n",
              "             0,     0,     0,     0,     0,     0,     0,     0,     0,     0,\n",
              "             0,     0,     0,     0,     0,     0,     0,     0,     0,     0,\n",
              "             0,     0,     0,     0,     0,     0,     0,     0,     0,     0,\n",
              "             0,     0,     0,     0,     0,     0,     0,     0,     0,     0,\n",
              "             0,     0,     0,     0,     0,     0,     0,     0,     0,     0,\n",
              "             0,     0,     0,     0,     0,     0,     0,     0,     0,     0,\n",
              "             0,     0,     0,     0,     0,     0,     0,     0,     0,     0,\n",
              "             0,     0,     0,     0,     0,     0,     0,     0,     0,     0,\n",
              "             0,     0,     0,     0,     0,     0,     0,     0]])"
            ]
          },
          "metadata": {},
          "execution_count": 27
        }
      ]
    },
    {
      "cell_type": "markdown",
      "source": [
        "Now that we have tokenized the input sentences into numerical representation, we can now move on to "
      ],
      "metadata": {
        "id": "lsgDIza4aDmz"
      },
      "id": "lsgDIza4aDmz"
    }
  ],
  "metadata": {
    "kernelspec": {
      "display_name": "Python 3 (ipykernel)",
      "language": "python",
      "name": "python3"
    },
    "language_info": {
      "codemirror_mode": {
        "name": "ipython",
        "version": 3
      },
      "file_extension": ".py",
      "mimetype": "text/x-python",
      "name": "python",
      "nbconvert_exporter": "python",
      "pygments_lexer": "ipython3",
      "version": "3.9.7"
    },
    "varInspector": {
      "cols": {
        "lenName": 16,
        "lenType": 16,
        "lenVar": 40
      },
      "kernels_config": {
        "python": {
          "delete_cmd_postfix": "",
          "delete_cmd_prefix": "del ",
          "library": "var_list.py",
          "varRefreshCmd": "print(var_dic_list())"
        },
        "r": {
          "delete_cmd_postfix": ") ",
          "delete_cmd_prefix": "rm(",
          "library": "var_list.r",
          "varRefreshCmd": "cat(var_dic_list()) "
        }
      },
      "types_to_exclude": [
        "module",
        "function",
        "builtin_function_or_method",
        "instance",
        "_Feature"
      ],
      "window_display": false
    },
    "colab": {
      "provenance": [],
      "toc_visible": true
    }
  },
  "nbformat": 4,
  "nbformat_minor": 5
}